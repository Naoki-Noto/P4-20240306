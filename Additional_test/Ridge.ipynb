{
 "cells": [
  {
   "cell_type": "code",
   "execution_count": 1,
   "id": "a25bd79a",
   "metadata": {},
   "outputs": [],
   "source": [
    "import pandas as pd\n",
    "import numpy as np\n",
    "from sklearn.model_selection import train_test_split\n",
    "from sklearn.linear_model import RidgeCV\n",
    "from sklearn import metrics"
   ]
  },
  {
   "cell_type": "code",
   "execution_count": 2,
   "id": "e36f6f24",
   "metadata": {},
   "outputs": [
    {
     "name": "stdout",
     "output_type": "stream",
     "text": [
      "RDKit\n",
      "R2 (train) 0.7433292270742082\n",
      "R2 (test) -8.392765734367638\n",
      "RMSE (train) 20.372756027840317\n",
      "RMSE (test) 37.130307271609134\n",
      "MF2\n",
      "R2 (train) 0.9913695717580584\n",
      "R2 (test) -10.4952372912325\n",
      "RMSE (train) 3.7357495097057662\n",
      "RMSE (test) 41.07624808963481\n",
      "MK\n",
      "R2 (train) 0.7521859579645602\n",
      "R2 (test) -7.8707875941605\n",
      "RMSE (train) 20.01817727278066\n",
      "RMSE (test) 36.083851604841435\n",
      "mordred\n",
      "R2 (train) 0.9584932634184556\n",
      "R2 (test) -9.810850963262684\n",
      "RMSE (train) 8.192583369767444\n",
      "RMSE (test) 39.834717173981176\n",
      "RDKit_pca\n",
      "R2 (train) 0.3481351574655608\n",
      "R2 (test) -7.944454125417792\n",
      "RMSE (train) 32.46686494452529\n",
      "RMSE (test) 36.233369126351775\n",
      "MF2_pca\n",
      "R2 (train) 0.7039866913879513\n",
      "R2 (test) -8.47645566168614\n",
      "RMSE (train) 21.878482392237284\n",
      "RMSE (test) 37.29535671671625\n",
      "MK_pca\n",
      "R2 (train) 0.4072661702271486\n",
      "R2 (test) -8.23392647109593\n",
      "RMSE (train) 30.959321388574477\n",
      "RMSE (test) 36.815016875035646\n",
      "mordred_pca\n",
      "R2 (train) 0.3392349415120145\n",
      "R2 (test) -7.869965260551682\n",
      "RMSE (train) 32.687756173292144\n",
      "RMSE (test) 36.08217905596639\n"
     ]
    }
   ],
   "source": [
    "for dataset in [\"RDKit\", \"MF2\", \"MK\", \"mordred\", \"RDKit_pca\", \"MF2_pca\", \"MK_pca\", \"mordred_pca\"]:\n",
    "    print(dataset)\n",
    "    data = pd.read_csv('data/{}.csv'.format(dataset))\n",
    "    y = pd.DataFrame(data['Yield'],columns=['Yield'])\n",
    "    X = data.drop(columns=['Yield', 'Ligand_name', 'Ligand_No', 'Substrate_name', 'Substrate_No'])\n",
    "    X_train, X_test, y_train, y_test = train_test_split(X, y, test_size=0.5, shuffle=False)\n",
    "    a_X_train = (X_train - X_train.mean()) / X_train.std()\n",
    "    a_X_test = (X_test - X_train.mean()) / X_train.std()\n",
    "    a_X_train = a_X_train.dropna(how='any', axis=1)\n",
    "    a_X_test = a_X_test[a_X_train.columns]\n",
    "    model = RidgeCV(alphas=np.linspace(0.1, 30, num=150), cv=5)\n",
    "    model.fit(a_X_train, y_train)\n",
    "    y_pred1 = model.predict(a_X_train)\n",
    "    y_pred2 = model.predict(a_X_test)\n",
    "    print('R2 (train)', metrics.r2_score(y_train, y_pred1))\n",
    "    print('R2 (test)',metrics.r2_score(y_test, y_pred2))\n",
    "    print('RMSE (train)',metrics.root_mean_squared_error(y_train, y_pred1))\n",
    "    print('RMSE (test)',metrics.root_mean_squared_error(y_test, y_pred2))"
   ]
  },
  {
   "cell_type": "code",
   "execution_count": null,
   "id": "63f0e68c",
   "metadata": {},
   "outputs": [],
   "source": []
  }
 ],
 "metadata": {
  "kernelspec": {
   "display_name": "Python 3 (ipykernel)",
   "language": "python",
   "name": "python3"
  },
  "language_info": {
   "codemirror_mode": {
    "name": "ipython",
    "version": 3
   },
   "file_extension": ".py",
   "mimetype": "text/x-python",
   "name": "python",
   "nbconvert_exporter": "python",
   "pygments_lexer": "ipython3",
   "version": "3.10.13"
  }
 },
 "nbformat": 4,
 "nbformat_minor": 5
}
