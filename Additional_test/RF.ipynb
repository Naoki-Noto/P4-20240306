{
 "cells": [
  {
   "cell_type": "code",
   "execution_count": 1,
   "id": "a25bd79a",
   "metadata": {},
   "outputs": [],
   "source": [
    "import pandas as pd\n",
    "from sklearn.model_selection import train_test_split\n",
    "from sklearn.model_selection import GridSearchCV\n",
    "from sklearn.ensemble import RandomForestRegressor\n",
    "from sklearn import metrics"
   ]
  },
  {
   "cell_type": "code",
   "execution_count": 2,
   "id": "e36f6f24",
   "metadata": {},
   "outputs": [
    {
     "name": "stdout",
     "output_type": "stream",
     "text": [
      "RDKit\n",
      "R2 (train) 0.8532268040251354\n",
      "R2 (test) -7.734414815751691\n",
      "RMSE (train) 15.405824660492081\n",
      "RMSE (test) 35.80541441947967\n",
      "MF2\n",
      "R2 (train) 0.8978194482086881\n",
      "R2 (test) -8.35564931075974\n",
      "RMSE (train) 12.854219063801365\n",
      "RMSE (test) 37.05687265093229\n",
      "MK\n",
      "R2 (train) 0.6102804540800826\n",
      "R2 (test) -8.07410626842132\n",
      "RMSE (train) 25.103696116470275\n",
      "RMSE (test) 36.49503028822669\n",
      "mordred\n",
      "R2 (train) 0.8792728798781958\n",
      "R2 (test) -7.535717656975958\n",
      "RMSE (train) 13.972174327989146\n",
      "RMSE (test) 35.39580700535306\n",
      "RDKit_pca\n",
      "R2 (train) 0.8293839951108052\n",
      "R2 (test) -7.300040661088428\n",
      "RMSE (train) 16.610069871398302\n",
      "RMSE (test) 34.90373541567089\n",
      "MF2_pca\n",
      "R2 (train) 0.8102605533656477\n",
      "R2 (test) -8.148142059338648\n",
      "RMSE (train) 17.51621995061925\n",
      "RMSE (test) 36.64360963206871\n",
      "MK_pca\n",
      "R2 (train) 0.8216814945094187\n",
      "R2 (test) -8.022010606715417\n",
      "RMSE (train) 16.980863970124478\n",
      "RMSE (test) 36.39011805968015\n",
      "mordred_pca\n",
      "R2 (train) 0.7310681133248896\n",
      "R2 (test) -5.990239634660946\n",
      "RMSE (train) 20.85368093490403\n",
      "RMSE (test) 32.03154080968642\n"
     ]
    }
   ],
   "source": [
    "for dataset in [\"RDKit\", \"MF2\", \"MK\", \"mordred\", \"RDKit_pca\", \"MF2_pca\", \"MK_pca\", \"mordred_pca\"]:\n",
    "    print(dataset)\n",
    "    data = pd.read_csv('data/{}.csv'.format(dataset))\n",
    "    y = pd.DataFrame(data['Yield'],columns=['Yield'])\n",
    "    X = data.drop(columns=['Yield', 'Ligand_name', 'Ligand_No', 'Substrate_name', 'Substrate_No'])\n",
    "    X_train, X_test, y_train, y_test = train_test_split(X, y, test_size=0.5, shuffle=False)\n",
    "    param = {\"n_estimators\": [100, 500, 1000, 3000, 5000], \"max_depth\": [3, 4, 5]}\n",
    "    reg = GridSearchCV(RandomForestRegressor(random_state=0), param_grid=param, cv=5, n_jobs=16)\n",
    "    reg.fit(X_train, y_train['Yield'])\n",
    "    best = reg.best_estimator_\n",
    "    y_pred1 = best.predict(X_train)\n",
    "    y_pred2 = best.predict(X_test)\n",
    "    print('R2 (train)', metrics.r2_score(y_train, y_pred1))\n",
    "    print('R2 (test)',metrics.r2_score(y_test, y_pred2))\n",
    "    print('RMSE (train)',metrics.root_mean_squared_error(y_train, y_pred1))\n",
    "    print('RMSE (test)',metrics.root_mean_squared_error(y_test, y_pred2))"
   ]
  },
  {
   "cell_type": "code",
   "execution_count": null,
   "id": "63f0e68c",
   "metadata": {},
   "outputs": [],
   "source": []
  }
 ],
 "metadata": {
  "kernelspec": {
   "display_name": "Python 3 (ipykernel)",
   "language": "python",
   "name": "python3"
  },
  "language_info": {
   "codemirror_mode": {
    "name": "ipython",
    "version": 3
   },
   "file_extension": ".py",
   "mimetype": "text/x-python",
   "name": "python",
   "nbconvert_exporter": "python",
   "pygments_lexer": "ipython3",
   "version": "3.10.13"
  }
 },
 "nbformat": 4,
 "nbformat_minor": 5
}
